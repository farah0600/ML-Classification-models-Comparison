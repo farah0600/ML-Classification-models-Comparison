{
 "cells": [
  {
   "cell_type": "markdown",
   "metadata": {},
   "source": [
    "# Classification Models"
   ]
  },
  {
   "cell_type": "code",
   "execution_count": 277,
   "metadata": {},
   "outputs": [],
   "source": [
    "import pandas as pd\n",
    "import numpy as np\n",
    "import seaborn as sns\n",
    "import matplotlib.pyplot as plt\n",
    "import sklearn\n",
    "from sklearn import metrics\n",
    "from sklearn.model_selection import train_test_split\n",
    "from sklearn.preprocessing import KBinsDiscretizer\n",
    "from sklearn.tree import DecisionTreeClassifier\n",
    "from sklearn.neighbors import KNeighborsClassifier\n",
    "from sklearn.linear_model import LogisticRegression\n",
    "import mlxtend\n",
    "from mlxtend.feature_selection import SequentialFeatureSelector as SFS\n",
    "from mlxtend.feature_selection import ExhaustiveFeatureSelector as EFS\n",
    "from matplotlib.colors import ListedColormap\n",
    "import matplotlib.pyplot as plt\n",
    "from matplotlib.pyplot import figure\n",
    "from sklearn.metrics import plot_confusion_matrix\n",
    "from sklearn.model_selection import learning_curve\n",
    "from sklearn.metrics import classification_report\n",
    "from sklearn.datasets import load_iris\n",
    "from sklearn.metrics import precision_score, recall_score"
   ]
  },
  {
   "cell_type": "code",
   "execution_count": 35,
   "metadata": {},
   "outputs": [
    {
     "data": {
      "text/html": [
       "<div>\n",
       "<style scoped>\n",
       "    .dataframe tbody tr th:only-of-type {\n",
       "        vertical-align: middle;\n",
       "    }\n",
       "\n",
       "    .dataframe tbody tr th {\n",
       "        vertical-align: top;\n",
       "    }\n",
       "\n",
       "    .dataframe thead th {\n",
       "        text-align: right;\n",
       "    }\n",
       "</style>\n",
       "<table border=\"1\" class=\"dataframe\">\n",
       "  <thead>\n",
       "    <tr style=\"text-align: right;\">\n",
       "      <th></th>\n",
       "      <th>url</th>\n",
       "      <th>timedelta</th>\n",
       "      <th>n_tokens_title</th>\n",
       "      <th>n_tokens_content</th>\n",
       "      <th>n_unique_tokens</th>\n",
       "      <th>n_non_stop_words</th>\n",
       "      <th>n_non_stop_unique_tokens</th>\n",
       "      <th>num_hrefs</th>\n",
       "      <th>num_self_hrefs</th>\n",
       "      <th>num_imgs</th>\n",
       "      <th>...</th>\n",
       "      <th>min_positive_polarity</th>\n",
       "      <th>max_positive_polarity</th>\n",
       "      <th>avg_negative_polarity</th>\n",
       "      <th>min_negative_polarity</th>\n",
       "      <th>max_negative_polarity</th>\n",
       "      <th>title_subjectivity</th>\n",
       "      <th>title_sentiment_polarity</th>\n",
       "      <th>abs_title_subjectivity</th>\n",
       "      <th>abs_title_sentiment_polarity</th>\n",
       "      <th>shares</th>\n",
       "    </tr>\n",
       "  </thead>\n",
       "  <tbody>\n",
       "    <tr>\n",
       "      <th>0</th>\n",
       "      <td>http://mashable.com/2013/01/07/amazon-instant-...</td>\n",
       "      <td>731.0</td>\n",
       "      <td>12.0</td>\n",
       "      <td>219.0</td>\n",
       "      <td>0.663594</td>\n",
       "      <td>1.0</td>\n",
       "      <td>0.815385</td>\n",
       "      <td>4.0</td>\n",
       "      <td>2.0</td>\n",
       "      <td>1.0</td>\n",
       "      <td>...</td>\n",
       "      <td>0.100000</td>\n",
       "      <td>0.70</td>\n",
       "      <td>-0.350000</td>\n",
       "      <td>-0.600</td>\n",
       "      <td>-0.200000</td>\n",
       "      <td>0.500000</td>\n",
       "      <td>-0.187500</td>\n",
       "      <td>0.000000</td>\n",
       "      <td>0.187500</td>\n",
       "      <td>593</td>\n",
       "    </tr>\n",
       "    <tr>\n",
       "      <th>1</th>\n",
       "      <td>http://mashable.com/2013/01/07/ap-samsung-spon...</td>\n",
       "      <td>731.0</td>\n",
       "      <td>9.0</td>\n",
       "      <td>255.0</td>\n",
       "      <td>0.604743</td>\n",
       "      <td>1.0</td>\n",
       "      <td>0.791946</td>\n",
       "      <td>3.0</td>\n",
       "      <td>1.0</td>\n",
       "      <td>1.0</td>\n",
       "      <td>...</td>\n",
       "      <td>0.033333</td>\n",
       "      <td>0.70</td>\n",
       "      <td>-0.118750</td>\n",
       "      <td>-0.125</td>\n",
       "      <td>-0.100000</td>\n",
       "      <td>0.000000</td>\n",
       "      <td>0.000000</td>\n",
       "      <td>0.500000</td>\n",
       "      <td>0.000000</td>\n",
       "      <td>711</td>\n",
       "    </tr>\n",
       "    <tr>\n",
       "      <th>2</th>\n",
       "      <td>http://mashable.com/2013/01/07/apple-40-billio...</td>\n",
       "      <td>731.0</td>\n",
       "      <td>9.0</td>\n",
       "      <td>211.0</td>\n",
       "      <td>0.575130</td>\n",
       "      <td>1.0</td>\n",
       "      <td>0.663866</td>\n",
       "      <td>3.0</td>\n",
       "      <td>1.0</td>\n",
       "      <td>1.0</td>\n",
       "      <td>...</td>\n",
       "      <td>0.100000</td>\n",
       "      <td>1.00</td>\n",
       "      <td>-0.466667</td>\n",
       "      <td>-0.800</td>\n",
       "      <td>-0.133333</td>\n",
       "      <td>0.000000</td>\n",
       "      <td>0.000000</td>\n",
       "      <td>0.500000</td>\n",
       "      <td>0.000000</td>\n",
       "      <td>1500</td>\n",
       "    </tr>\n",
       "    <tr>\n",
       "      <th>3</th>\n",
       "      <td>http://mashable.com/2013/01/07/astronaut-notre...</td>\n",
       "      <td>731.0</td>\n",
       "      <td>9.0</td>\n",
       "      <td>531.0</td>\n",
       "      <td>0.503788</td>\n",
       "      <td>1.0</td>\n",
       "      <td>0.665635</td>\n",
       "      <td>9.0</td>\n",
       "      <td>0.0</td>\n",
       "      <td>1.0</td>\n",
       "      <td>...</td>\n",
       "      <td>0.136364</td>\n",
       "      <td>0.80</td>\n",
       "      <td>-0.369697</td>\n",
       "      <td>-0.600</td>\n",
       "      <td>-0.166667</td>\n",
       "      <td>0.000000</td>\n",
       "      <td>0.000000</td>\n",
       "      <td>0.500000</td>\n",
       "      <td>0.000000</td>\n",
       "      <td>1200</td>\n",
       "    </tr>\n",
       "    <tr>\n",
       "      <th>4</th>\n",
       "      <td>http://mashable.com/2013/01/07/att-u-verse-apps/</td>\n",
       "      <td>731.0</td>\n",
       "      <td>13.0</td>\n",
       "      <td>1072.0</td>\n",
       "      <td>0.415646</td>\n",
       "      <td>1.0</td>\n",
       "      <td>0.540890</td>\n",
       "      <td>19.0</td>\n",
       "      <td>19.0</td>\n",
       "      <td>20.0</td>\n",
       "      <td>...</td>\n",
       "      <td>0.033333</td>\n",
       "      <td>1.00</td>\n",
       "      <td>-0.220192</td>\n",
       "      <td>-0.500</td>\n",
       "      <td>-0.050000</td>\n",
       "      <td>0.454545</td>\n",
       "      <td>0.136364</td>\n",
       "      <td>0.045455</td>\n",
       "      <td>0.136364</td>\n",
       "      <td>505</td>\n",
       "    </tr>\n",
       "    <tr>\n",
       "      <th>...</th>\n",
       "      <td>...</td>\n",
       "      <td>...</td>\n",
       "      <td>...</td>\n",
       "      <td>...</td>\n",
       "      <td>...</td>\n",
       "      <td>...</td>\n",
       "      <td>...</td>\n",
       "      <td>...</td>\n",
       "      <td>...</td>\n",
       "      <td>...</td>\n",
       "      <td>...</td>\n",
       "      <td>...</td>\n",
       "      <td>...</td>\n",
       "      <td>...</td>\n",
       "      <td>...</td>\n",
       "      <td>...</td>\n",
       "      <td>...</td>\n",
       "      <td>...</td>\n",
       "      <td>...</td>\n",
       "      <td>...</td>\n",
       "      <td>...</td>\n",
       "    </tr>\n",
       "    <tr>\n",
       "      <th>39639</th>\n",
       "      <td>http://mashable.com/2014/12/27/samsung-app-aut...</td>\n",
       "      <td>8.0</td>\n",
       "      <td>11.0</td>\n",
       "      <td>346.0</td>\n",
       "      <td>0.529052</td>\n",
       "      <td>1.0</td>\n",
       "      <td>0.684783</td>\n",
       "      <td>9.0</td>\n",
       "      <td>7.0</td>\n",
       "      <td>1.0</td>\n",
       "      <td>...</td>\n",
       "      <td>0.100000</td>\n",
       "      <td>0.75</td>\n",
       "      <td>-0.260000</td>\n",
       "      <td>-0.500</td>\n",
       "      <td>-0.125000</td>\n",
       "      <td>0.100000</td>\n",
       "      <td>0.000000</td>\n",
       "      <td>0.400000</td>\n",
       "      <td>0.000000</td>\n",
       "      <td>1800</td>\n",
       "    </tr>\n",
       "    <tr>\n",
       "      <th>39640</th>\n",
       "      <td>http://mashable.com/2014/12/27/seth-rogen-jame...</td>\n",
       "      <td>8.0</td>\n",
       "      <td>12.0</td>\n",
       "      <td>328.0</td>\n",
       "      <td>0.696296</td>\n",
       "      <td>1.0</td>\n",
       "      <td>0.885057</td>\n",
       "      <td>9.0</td>\n",
       "      <td>7.0</td>\n",
       "      <td>3.0</td>\n",
       "      <td>...</td>\n",
       "      <td>0.136364</td>\n",
       "      <td>0.70</td>\n",
       "      <td>-0.211111</td>\n",
       "      <td>-0.400</td>\n",
       "      <td>-0.100000</td>\n",
       "      <td>0.300000</td>\n",
       "      <td>1.000000</td>\n",
       "      <td>0.200000</td>\n",
       "      <td>1.000000</td>\n",
       "      <td>1900</td>\n",
       "    </tr>\n",
       "    <tr>\n",
       "      <th>39641</th>\n",
       "      <td>http://mashable.com/2014/12/27/son-pays-off-mo...</td>\n",
       "      <td>8.0</td>\n",
       "      <td>10.0</td>\n",
       "      <td>442.0</td>\n",
       "      <td>0.516355</td>\n",
       "      <td>1.0</td>\n",
       "      <td>0.644128</td>\n",
       "      <td>24.0</td>\n",
       "      <td>1.0</td>\n",
       "      <td>12.0</td>\n",
       "      <td>...</td>\n",
       "      <td>0.136364</td>\n",
       "      <td>0.50</td>\n",
       "      <td>-0.356439</td>\n",
       "      <td>-0.800</td>\n",
       "      <td>-0.166667</td>\n",
       "      <td>0.454545</td>\n",
       "      <td>0.136364</td>\n",
       "      <td>0.045455</td>\n",
       "      <td>0.136364</td>\n",
       "      <td>1900</td>\n",
       "    </tr>\n",
       "    <tr>\n",
       "      <th>39642</th>\n",
       "      <td>http://mashable.com/2014/12/27/ukraine-blasts/</td>\n",
       "      <td>8.0</td>\n",
       "      <td>6.0</td>\n",
       "      <td>682.0</td>\n",
       "      <td>0.539493</td>\n",
       "      <td>1.0</td>\n",
       "      <td>0.692661</td>\n",
       "      <td>10.0</td>\n",
       "      <td>1.0</td>\n",
       "      <td>1.0</td>\n",
       "      <td>...</td>\n",
       "      <td>0.062500</td>\n",
       "      <td>0.50</td>\n",
       "      <td>-0.205246</td>\n",
       "      <td>-0.500</td>\n",
       "      <td>-0.012500</td>\n",
       "      <td>0.000000</td>\n",
       "      <td>0.000000</td>\n",
       "      <td>0.500000</td>\n",
       "      <td>0.000000</td>\n",
       "      <td>1100</td>\n",
       "    </tr>\n",
       "    <tr>\n",
       "      <th>39643</th>\n",
       "      <td>http://mashable.com/2014/12/27/youtube-channel...</td>\n",
       "      <td>8.0</td>\n",
       "      <td>10.0</td>\n",
       "      <td>157.0</td>\n",
       "      <td>0.701987</td>\n",
       "      <td>1.0</td>\n",
       "      <td>0.846154</td>\n",
       "      <td>1.0</td>\n",
       "      <td>1.0</td>\n",
       "      <td>0.0</td>\n",
       "      <td>...</td>\n",
       "      <td>0.100000</td>\n",
       "      <td>0.50</td>\n",
       "      <td>-0.200000</td>\n",
       "      <td>-0.200</td>\n",
       "      <td>-0.200000</td>\n",
       "      <td>0.333333</td>\n",
       "      <td>0.250000</td>\n",
       "      <td>0.166667</td>\n",
       "      <td>0.250000</td>\n",
       "      <td>1300</td>\n",
       "    </tr>\n",
       "  </tbody>\n",
       "</table>\n",
       "<p>39644 rows × 61 columns</p>\n",
       "</div>"
      ],
      "text/plain": [
       "                                                     url   timedelta  \\\n",
       "0      http://mashable.com/2013/01/07/amazon-instant-...       731.0   \n",
       "1      http://mashable.com/2013/01/07/ap-samsung-spon...       731.0   \n",
       "2      http://mashable.com/2013/01/07/apple-40-billio...       731.0   \n",
       "3      http://mashable.com/2013/01/07/astronaut-notre...       731.0   \n",
       "4       http://mashable.com/2013/01/07/att-u-verse-apps/       731.0   \n",
       "...                                                  ...         ...   \n",
       "39639  http://mashable.com/2014/12/27/samsung-app-aut...         8.0   \n",
       "39640  http://mashable.com/2014/12/27/seth-rogen-jame...         8.0   \n",
       "39641  http://mashable.com/2014/12/27/son-pays-off-mo...         8.0   \n",
       "39642     http://mashable.com/2014/12/27/ukraine-blasts/         8.0   \n",
       "39643  http://mashable.com/2014/12/27/youtube-channel...         8.0   \n",
       "\n",
       "        n_tokens_title   n_tokens_content   n_unique_tokens  \\\n",
       "0                 12.0              219.0          0.663594   \n",
       "1                  9.0              255.0          0.604743   \n",
       "2                  9.0              211.0          0.575130   \n",
       "3                  9.0              531.0          0.503788   \n",
       "4                 13.0             1072.0          0.415646   \n",
       "...                ...                ...               ...   \n",
       "39639             11.0              346.0          0.529052   \n",
       "39640             12.0              328.0          0.696296   \n",
       "39641             10.0              442.0          0.516355   \n",
       "39642              6.0              682.0          0.539493   \n",
       "39643             10.0              157.0          0.701987   \n",
       "\n",
       "        n_non_stop_words   n_non_stop_unique_tokens   num_hrefs  \\\n",
       "0                    1.0                   0.815385         4.0   \n",
       "1                    1.0                   0.791946         3.0   \n",
       "2                    1.0                   0.663866         3.0   \n",
       "3                    1.0                   0.665635         9.0   \n",
       "4                    1.0                   0.540890        19.0   \n",
       "...                  ...                        ...         ...   \n",
       "39639                1.0                   0.684783         9.0   \n",
       "39640                1.0                   0.885057         9.0   \n",
       "39641                1.0                   0.644128        24.0   \n",
       "39642                1.0                   0.692661        10.0   \n",
       "39643                1.0                   0.846154         1.0   \n",
       "\n",
       "        num_self_hrefs   num_imgs  ...   min_positive_polarity  \\\n",
       "0                  2.0        1.0  ...                0.100000   \n",
       "1                  1.0        1.0  ...                0.033333   \n",
       "2                  1.0        1.0  ...                0.100000   \n",
       "3                  0.0        1.0  ...                0.136364   \n",
       "4                 19.0       20.0  ...                0.033333   \n",
       "...                ...        ...  ...                     ...   \n",
       "39639              7.0        1.0  ...                0.100000   \n",
       "39640              7.0        3.0  ...                0.136364   \n",
       "39641              1.0       12.0  ...                0.136364   \n",
       "39642              1.0        1.0  ...                0.062500   \n",
       "39643              1.0        0.0  ...                0.100000   \n",
       "\n",
       "        max_positive_polarity   avg_negative_polarity   min_negative_polarity  \\\n",
       "0                        0.70               -0.350000                  -0.600   \n",
       "1                        0.70               -0.118750                  -0.125   \n",
       "2                        1.00               -0.466667                  -0.800   \n",
       "3                        0.80               -0.369697                  -0.600   \n",
       "4                        1.00               -0.220192                  -0.500   \n",
       "...                       ...                     ...                     ...   \n",
       "39639                    0.75               -0.260000                  -0.500   \n",
       "39640                    0.70               -0.211111                  -0.400   \n",
       "39641                    0.50               -0.356439                  -0.800   \n",
       "39642                    0.50               -0.205246                  -0.500   \n",
       "39643                    0.50               -0.200000                  -0.200   \n",
       "\n",
       "        max_negative_polarity   title_subjectivity   title_sentiment_polarity  \\\n",
       "0                   -0.200000             0.500000                  -0.187500   \n",
       "1                   -0.100000             0.000000                   0.000000   \n",
       "2                   -0.133333             0.000000                   0.000000   \n",
       "3                   -0.166667             0.000000                   0.000000   \n",
       "4                   -0.050000             0.454545                   0.136364   \n",
       "...                       ...                  ...                        ...   \n",
       "39639               -0.125000             0.100000                   0.000000   \n",
       "39640               -0.100000             0.300000                   1.000000   \n",
       "39641               -0.166667             0.454545                   0.136364   \n",
       "39642               -0.012500             0.000000                   0.000000   \n",
       "39643               -0.200000             0.333333                   0.250000   \n",
       "\n",
       "        abs_title_subjectivity   abs_title_sentiment_polarity   shares  \n",
       "0                     0.000000                       0.187500      593  \n",
       "1                     0.500000                       0.000000      711  \n",
       "2                     0.500000                       0.000000     1500  \n",
       "3                     0.500000                       0.000000     1200  \n",
       "4                     0.045455                       0.136364      505  \n",
       "...                        ...                            ...      ...  \n",
       "39639                 0.400000                       0.000000     1800  \n",
       "39640                 0.200000                       1.000000     1900  \n",
       "39641                 0.045455                       0.136364     1900  \n",
       "39642                 0.500000                       0.000000     1100  \n",
       "39643                 0.166667                       0.250000     1300  \n",
       "\n",
       "[39644 rows x 61 columns]"
      ]
     },
     "execution_count": 35,
     "metadata": {},
     "output_type": "execute_result"
    }
   ],
   "source": [
    "df = pd.read_csv('OnlineNewsPopularity.csv')\n",
    "df"
   ]
  },
  {
   "cell_type": "code",
   "execution_count": 36,
   "metadata": {},
   "outputs": [
    {
     "data": {
      "text/plain": [
       "array(['url', ' timedelta', ' n_tokens_title', ' n_tokens_content',\n",
       "       ' n_unique_tokens', ' n_non_stop_words',\n",
       "       ' n_non_stop_unique_tokens', ' num_hrefs', ' num_self_hrefs',\n",
       "       ' num_imgs', ' num_videos', ' average_token_length',\n",
       "       ' num_keywords', ' data_channel_is_lifestyle',\n",
       "       ' data_channel_is_entertainment', ' data_channel_is_bus',\n",
       "       ' data_channel_is_socmed', ' data_channel_is_tech',\n",
       "       ' data_channel_is_world', ' kw_min_min', ' kw_max_min',\n",
       "       ' kw_avg_min', ' kw_min_max', ' kw_max_max', ' kw_avg_max',\n",
       "       ' kw_min_avg', ' kw_max_avg', ' kw_avg_avg',\n",
       "       ' self_reference_min_shares', ' self_reference_max_shares',\n",
       "       ' self_reference_avg_sharess', ' weekday_is_monday',\n",
       "       ' weekday_is_tuesday', ' weekday_is_wednesday',\n",
       "       ' weekday_is_thursday', ' weekday_is_friday',\n",
       "       ' weekday_is_saturday', ' weekday_is_sunday', ' is_weekend',\n",
       "       ' LDA_00', ' LDA_01', ' LDA_02', ' LDA_03', ' LDA_04',\n",
       "       ' global_subjectivity', ' global_sentiment_polarity',\n",
       "       ' global_rate_positive_words', ' global_rate_negative_words',\n",
       "       ' rate_positive_words', ' rate_negative_words',\n",
       "       ' avg_positive_polarity', ' min_positive_polarity',\n",
       "       ' max_positive_polarity', ' avg_negative_polarity',\n",
       "       ' min_negative_polarity', ' max_negative_polarity',\n",
       "       ' title_subjectivity', ' title_sentiment_polarity',\n",
       "       ' abs_title_subjectivity', ' abs_title_sentiment_polarity',\n",
       "       ' shares'], dtype=object)"
      ]
     },
     "execution_count": 36,
     "metadata": {},
     "output_type": "execute_result"
    }
   ],
   "source": [
    "df.columns.values"
   ]
  },
  {
   "cell_type": "markdown",
   "metadata": {},
   "source": [
    "Looking at the columns above, it is noticed that most of the features' names begin with a space. Due to the inconvenince, we will fix the features' names by removing these spaces."
   ]
  },
  {
   "cell_type": "code",
   "execution_count": 37,
   "metadata": {},
   "outputs": [
    {
     "data": {
      "text/plain": [
       "array(['url', 'timedelta', 'n_tokens_title', 'n_tokens_content',\n",
       "       'n_unique_tokens', 'n_non_stop_words', 'n_non_stop_unique_tokens',\n",
       "       'num_hrefs', 'num_self_hrefs', 'num_imgs', 'num_videos',\n",
       "       'average_token_length', 'num_keywords',\n",
       "       'data_channel_is_lifestyle', 'data_channel_is_entertainment',\n",
       "       'data_channel_is_bus', 'data_channel_is_socmed',\n",
       "       'data_channel_is_tech', 'data_channel_is_world', 'kw_min_min',\n",
       "       'kw_max_min', 'kw_avg_min', 'kw_min_max', 'kw_max_max',\n",
       "       'kw_avg_max', 'kw_min_avg', 'kw_max_avg', 'kw_avg_avg',\n",
       "       'self_reference_min_shares', 'self_reference_max_shares',\n",
       "       'self_reference_avg_sharess', 'weekday_is_monday',\n",
       "       'weekday_is_tuesday', 'weekday_is_wednesday',\n",
       "       'weekday_is_thursday', 'weekday_is_friday', 'weekday_is_saturday',\n",
       "       'weekday_is_sunday', 'is_weekend', 'LDA_00', 'LDA_01', 'LDA_02',\n",
       "       'LDA_03', 'LDA_04', 'global_subjectivity',\n",
       "       'global_sentiment_polarity', 'global_rate_positive_words',\n",
       "       'global_rate_negative_words', 'rate_positive_words',\n",
       "       'rate_negative_words', 'avg_positive_polarity',\n",
       "       'min_positive_polarity', 'max_positive_polarity',\n",
       "       'avg_negative_polarity', 'min_negative_polarity',\n",
       "       'max_negative_polarity', 'title_subjectivity',\n",
       "       'title_sentiment_polarity', 'abs_title_subjectivity',\n",
       "       'abs_title_sentiment_polarity', 'shares'], dtype=object)"
      ]
     },
     "execution_count": 37,
     "metadata": {},
     "output_type": "execute_result"
    }
   ],
   "source": [
    "df.columns = df.columns.str.lstrip()\n",
    "df.columns.values"
   ]
  },
  {
   "cell_type": "markdown",
   "metadata": {},
   "source": [
    "Looking at the attributes, we can deduce that the attributes url and timedelta are irrelevant features for our scope so they will be dropped. And it was approved by the domain experts who developed the dataset that these attributes are irrelevant."
   ]
  },
  {
   "cell_type": "code",
   "execution_count": 38,
   "metadata": {},
   "outputs": [
    {
     "data": {
      "text/plain": [
       "url                             0\n",
       "timedelta                       0\n",
       "n_tokens_title                  0\n",
       "n_tokens_content                0\n",
       "n_unique_tokens                 0\n",
       "                               ..\n",
       "title_subjectivity              0\n",
       "title_sentiment_polarity        0\n",
       "abs_title_subjectivity          0\n",
       "abs_title_sentiment_polarity    0\n",
       "shares                          0\n",
       "Length: 61, dtype: int64"
      ]
     },
     "execution_count": 38,
     "metadata": {},
     "output_type": "execute_result"
    }
   ],
   "source": [
    "df.isnull().sum()"
   ]
  },
  {
   "cell_type": "code",
   "execution_count": 39,
   "metadata": {},
   "outputs": [
    {
     "data": {
      "text/plain": [
       "url                              object\n",
       "timedelta                       float64\n",
       "n_tokens_title                  float64\n",
       "n_tokens_content                float64\n",
       "n_unique_tokens                 float64\n",
       "                                 ...   \n",
       "title_subjectivity              float64\n",
       "title_sentiment_polarity        float64\n",
       "abs_title_subjectivity          float64\n",
       "abs_title_sentiment_polarity    float64\n",
       "shares                            int64\n",
       "Length: 61, dtype: object"
      ]
     },
     "execution_count": 39,
     "metadata": {},
     "output_type": "execute_result"
    }
   ],
   "source": [
    "df.dtypes"
   ]
  },
  {
   "cell_type": "code",
   "execution_count": 40,
   "metadata": {},
   "outputs": [],
   "source": [
    "df.drop(columns=['url', 'timedelta'], inplace = True)"
   ]
  },
  {
   "cell_type": "code",
   "execution_count": 41,
   "metadata": {},
   "outputs": [
    {
     "data": {
      "text/plain": [
       "n_tokens_title                   0\n",
       "n_tokens_content                 0\n",
       "n_unique_tokens                  0\n",
       "n_non_stop_words                 0\n",
       "n_non_stop_unique_tokens         0\n",
       "num_hrefs                        0\n",
       "num_self_hrefs                   0\n",
       "num_imgs                         0\n",
       "num_videos                       0\n",
       "average_token_length             0\n",
       "num_keywords                     0\n",
       "data_channel_is_lifestyle        0\n",
       "data_channel_is_entertainment    0\n",
       "data_channel_is_bus              0\n",
       "data_channel_is_socmed           0\n",
       "data_channel_is_tech             0\n",
       "data_channel_is_world            0\n",
       "kw_min_min                       0\n",
       "kw_max_min                       0\n",
       "kw_avg_min                       0\n",
       "kw_min_max                       0\n",
       "kw_max_max                       0\n",
       "kw_avg_max                       0\n",
       "kw_min_avg                       0\n",
       "kw_max_avg                       0\n",
       "kw_avg_avg                       0\n",
       "self_reference_min_shares        0\n",
       "self_reference_max_shares        0\n",
       "self_reference_avg_sharess       0\n",
       "weekday_is_monday                0\n",
       "weekday_is_tuesday               0\n",
       "weekday_is_wednesday             0\n",
       "weekday_is_thursday              0\n",
       "weekday_is_friday                0\n",
       "weekday_is_saturday              0\n",
       "weekday_is_sunday                0\n",
       "is_weekend                       0\n",
       "LDA_00                           0\n",
       "LDA_01                           0\n",
       "LDA_02                           0\n",
       "LDA_03                           0\n",
       "LDA_04                           0\n",
       "global_subjectivity              0\n",
       "global_sentiment_polarity        0\n",
       "global_rate_positive_words       0\n",
       "global_rate_negative_words       0\n",
       "rate_positive_words              0\n",
       "rate_negative_words              0\n",
       "avg_positive_polarity            0\n",
       "min_positive_polarity            0\n",
       "max_positive_polarity            0\n",
       "avg_negative_polarity            0\n",
       "min_negative_polarity            0\n",
       "max_negative_polarity            0\n",
       "title_subjectivity               0\n",
       "title_sentiment_polarity         0\n",
       "abs_title_subjectivity           0\n",
       "abs_title_sentiment_polarity     0\n",
       "shares                           0\n",
       "dtype: int64"
      ]
     },
     "execution_count": 41,
     "metadata": {},
     "output_type": "execute_result"
    }
   ],
   "source": [
    "df.isnull().sum()"
   ]
  },
  {
   "cell_type": "markdown",
   "metadata": {},
   "source": [
    "The rest of the data seem to be relevant so nothing needs to be dropped for now. With feature selection, the important features will be highlighted, and it will be applied later after the data cleaning. "
   ]
  },
  {
   "cell_type": "markdown",
   "metadata": {},
   "source": [
    "## Checking Datatypes of the columns"
   ]
  },
  {
   "cell_type": "code",
   "execution_count": 42,
   "metadata": {},
   "outputs": [
    {
     "data": {
      "text/plain": [
       "n_tokens_title                   float64\n",
       "n_tokens_content                 float64\n",
       "n_unique_tokens                  float64\n",
       "n_non_stop_words                 float64\n",
       "n_non_stop_unique_tokens         float64\n",
       "num_hrefs                        float64\n",
       "num_self_hrefs                   float64\n",
       "num_imgs                         float64\n",
       "num_videos                       float64\n",
       "average_token_length             float64\n",
       "num_keywords                     float64\n",
       "data_channel_is_lifestyle        float64\n",
       "data_channel_is_entertainment    float64\n",
       "data_channel_is_bus              float64\n",
       "data_channel_is_socmed           float64\n",
       "data_channel_is_tech             float64\n",
       "data_channel_is_world            float64\n",
       "kw_min_min                       float64\n",
       "kw_max_min                       float64\n",
       "kw_avg_min                       float64\n",
       "kw_min_max                       float64\n",
       "kw_max_max                       float64\n",
       "kw_avg_max                       float64\n",
       "kw_min_avg                       float64\n",
       "kw_max_avg                       float64\n",
       "kw_avg_avg                       float64\n",
       "self_reference_min_shares        float64\n",
       "self_reference_max_shares        float64\n",
       "self_reference_avg_sharess       float64\n",
       "weekday_is_monday                float64\n",
       "weekday_is_tuesday               float64\n",
       "weekday_is_wednesday             float64\n",
       "weekday_is_thursday              float64\n",
       "weekday_is_friday                float64\n",
       "weekday_is_saturday              float64\n",
       "weekday_is_sunday                float64\n",
       "is_weekend                       float64\n",
       "LDA_00                           float64\n",
       "LDA_01                           float64\n",
       "LDA_02                           float64\n",
       "LDA_03                           float64\n",
       "LDA_04                           float64\n",
       "global_subjectivity              float64\n",
       "global_sentiment_polarity        float64\n",
       "global_rate_positive_words       float64\n",
       "global_rate_negative_words       float64\n",
       "rate_positive_words              float64\n",
       "rate_negative_words              float64\n",
       "avg_positive_polarity            float64\n",
       "min_positive_polarity            float64\n",
       "max_positive_polarity            float64\n",
       "avg_negative_polarity            float64\n",
       "min_negative_polarity            float64\n",
       "max_negative_polarity            float64\n",
       "title_subjectivity               float64\n",
       "title_sentiment_polarity         float64\n",
       "abs_title_subjectivity           float64\n",
       "abs_title_sentiment_polarity     float64\n",
       "shares                             int64\n",
       "dtype: object"
      ]
     },
     "execution_count": 42,
     "metadata": {},
     "output_type": "execute_result"
    }
   ],
   "source": [
    "df.dtypes"
   ]
  },
  {
   "cell_type": "markdown",
   "metadata": {},
   "source": [
    "The datatypes of the columns are all adjusted to the appropriate datatypes so there is no cleaning needed in this part. "
   ]
  },
  {
   "cell_type": "markdown",
   "metadata": {},
   "source": [
    "## Checking for Duplicate Values"
   ]
  },
  {
   "cell_type": "code",
   "execution_count": 43,
   "metadata": {},
   "outputs": [
    {
     "data": {
      "text/plain": [
       "0"
      ]
     },
     "execution_count": 43,
     "metadata": {},
     "output_type": "execute_result"
    }
   ],
   "source": [
    "df.duplicated().sum()"
   ]
  },
  {
   "cell_type": "markdown",
   "metadata": {},
   "source": [
    "The dataset has no duplicates to be dropped."
   ]
  },
  {
   "cell_type": "markdown",
   "metadata": {},
   "source": [
    "## Checking for Outliers"
   ]
  },
  {
   "cell_type": "code",
   "execution_count": 44,
   "metadata": {},
   "outputs": [
    {
     "data": {
      "image/png": "[encoded data removed]",
      "text/plain": [
       "<Figure size 720x720 with 1 Axes>"
      ]
     },
     "metadata": {
      "needs_background": "light"
     },
     "output_type": "display_data"
    }
   ],
   "source": [
    "fig = plt.figure(figsize =(10, 10))\n",
    "sns.boxplot(data = df)\n",
    "plt.show()"
   ]
  },
  {
   "cell_type": "code",
   "execution_count": 91,
   "metadata": {},
   "outputs": [
    {
     "name": "stdout",
     "output_type": "stream",
     "text": [
      "n_tokens_title :  max:  23.0 , min:  2.0\n",
      "n_tokens_content :  max:  8474.0 , min:  0.0\n",
      "n_unique_tokens :  max:  701.0 , min:  0.0\n",
      "n_non_stop_words :  max:  1042.0 , min:  0.0\n",
      "n_non_stop_unique_tokens :  max:  650.0 , min:  0.0\n",
      "num_hrefs :  max:  304.0 , min:  0.0\n",
      "num_self_hrefs :  max:  116.0 , min:  0.0\n",
      "num_imgs :  max:  128.0 , min:  0.0\n",
      "num_videos :  max:  91.0 , min:  0.0\n",
      "average_token_length :  max:  8.04153354633 , min:  0.0\n",
      "num_keywords :  max:  10.0 , min:  1.0\n",
      "data_channel_is_lifestyle :  max:  1.0 , min:  0.0\n",
      "data_channel_is_entertainment :  max:  1.0 , min:  0.0\n",
      "data_channel_is_bus :  max:  1.0 , min:  0.0\n",
      "data_channel_is_socmed :  max:  1.0 , min:  0.0\n",
      "data_channel_is_tech :  max:  1.0 , min:  0.0\n",
      "data_channel_is_world :  max:  1.0 , min:  0.0\n",
      "kw_min_min :  max:  377.0 , min:  -1.0\n",
      "kw_max_min :  max:  298400.0 , min:  0.0\n",
      "kw_avg_min :  max:  42827.8571429 , min:  -1.0\n",
      "kw_min_max :  max:  843300.0 , min:  0.0\n",
      "kw_max_max :  max:  843300.0 , min:  0.0\n",
      "kw_avg_max :  max:  843300.0 , min:  0.0\n",
      "kw_min_avg :  max:  3613.0398195 , min:  -1.0\n",
      "kw_max_avg :  max:  298400.0 , min:  0.0\n",
      "kw_avg_avg :  max:  43567.6599458 , min:  0.0\n",
      "self_reference_min_shares :  max:  843300.0 , min:  0.0\n",
      "self_reference_max_shares :  max:  843300.0 , min:  0.0\n",
      "self_reference_avg_sharess :  max:  843300.0 , min:  0.0\n",
      "weekday_is_monday :  max:  1.0 , min:  0.0\n",
      "weekday_is_tuesday :  max:  1.0 , min:  0.0\n",
      "weekday_is_wednesday :  max:  1.0 , min:  0.0\n",
      "weekday_is_thursday :  max:  1.0 , min:  0.0\n",
      "weekday_is_friday :  max:  1.0 , min:  0.0\n",
      "weekday_is_saturday :  max:  1.0 , min:  0.0\n",
      "weekday_is_sunday :  max:  1.0 , min:  0.0\n",
      "is_weekend :  max:  1.0 , min:  0.0\n",
      "LDA_00 :  max:  0.926994384393 , min:  0.0\n",
      "LDA_01 :  max:  0.925946986138 , min:  0.0\n",
      "LDA_02 :  max:  0.919999088666 , min:  0.0\n",
      "LDA_03 :  max:  0.926533782685 , min:  0.0\n",
      "LDA_04 :  max:  0.927190809258 , min:  0.0\n",
      "global_subjectivity :  max:  1.0 , min:  0.0\n",
      "global_sentiment_polarity :  max:  0.727840909091 , min:  -0.39375\n",
      "global_rate_positive_words :  max:  0.155487804878 , min:  0.0\n",
      "global_rate_negative_words :  max:  0.184931506849 , min:  0.0\n",
      "rate_positive_words :  max:  1.0 , min:  0.0\n",
      "rate_negative_words :  max:  1.0 , min:  0.0\n",
      "avg_positive_polarity :  max:  1.0 , min:  0.0\n",
      "min_positive_polarity :  max:  1.0 , min:  0.0\n",
      "max_positive_polarity :  max:  1.0 , min:  0.0\n",
      "avg_negative_polarity :  max:  0.0 , min:  -1.0\n",
      "min_negative_polarity :  max:  0.0 , min:  -1.0\n",
      "max_negative_polarity :  max:  0.0 , min:  -1.0\n",
      "title_subjectivity :  max:  1.0 , min:  0.0\n",
      "title_sentiment_polarity :  max:  1.0 , min:  -1.0\n",
      "abs_title_subjectivity :  max:  0.5 , min:  0.0\n",
      "abs_title_sentiment_polarity :  max:  1.0 , min:  0.0\n",
      "shares :  max:  843300 , min:  1\n"
     ]
    }
   ],
   "source": [
    "for col in df:\n",
    "    series = df[col]\n",
    "    print(col, ': ','max: ', series.max(),\", min: \", series.min())\n",
    "    "
   ]
  },
  {
   "cell_type": "markdown",
   "metadata": {},
   "source": [
    "## Using Quantile Method to Trim outliers"
   ]
  },
  {
   "cell_type": "code",
   "execution_count": 102,
   "metadata": {},
   "outputs": [
    {
     "name": "stdout",
     "output_type": "stream",
     "text": [
      "n_tokens_title                   3.000000e+00\n",
      "n_tokens_content                 4.700000e+02\n",
      "n_unique_tokens                  1.378252e-01\n",
      "n_non_stop_words                 4.314000e-09\n",
      "n_non_stop_unique_tokens         1.288902e-01\n",
      "num_hrefs                        1.000000e+01\n",
      "num_self_hrefs                   3.000000e+00\n",
      "num_imgs                         3.000000e+00\n",
      "num_videos                       1.000000e+00\n",
      "average_token_length             3.764347e-01\n",
      "num_keywords                     3.000000e+00\n",
      "data_channel_is_lifestyle        0.000000e+00\n",
      "data_channel_is_entertainment    0.000000e+00\n",
      "data_channel_is_bus              0.000000e+00\n",
      "data_channel_is_socmed           0.000000e+00\n",
      "data_channel_is_tech             0.000000e+00\n",
      "data_channel_is_world            0.000000e+00\n",
      "kw_min_min                       5.000000e+00\n",
      "kw_max_min                       5.550000e+02\n",
      "kw_avg_min                       2.152500e+02\n",
      "kw_min_max                       7.900000e+03\n",
      "kw_max_max                       0.000000e+00\n",
      "kw_avg_max                       1.581331e+05\n",
      "kw_min_avg                       2.056781e+03\n",
      "kw_max_avg                       2.457852e+03\n",
      "kw_avg_avg                       1.217781e+03\n",
      "self_reference_min_shares        1.961000e+03\n",
      "self_reference_max_shares        6.900000e+03\n",
      "self_reference_avg_sharess       4.218812e+03\n",
      "weekday_is_monday                0.000000e+00\n",
      "weekday_is_tuesday               0.000000e+00\n",
      "weekday_is_wednesday             0.000000e+00\n",
      "weekday_is_thursday              0.000000e+00\n",
      "weekday_is_friday                0.000000e+00\n",
      "weekday_is_saturday              0.000000e+00\n",
      "weekday_is_sunday                0.000000e+00\n",
      "is_weekend                       0.000000e+00\n",
      "LDA_00                           2.159075e-01\n",
      "LDA_01                           1.258190e-01\n",
      "LDA_02                           3.056465e-01\n",
      "LDA_03                           3.471911e-01\n",
      "LDA_04                           3.714121e-01\n",
      "global_subjectivity              1.121667e-01\n",
      "global_sentiment_polarity        1.200749e-01\n",
      "global_rate_positive_words       2.189505e-02\n",
      "global_rate_negative_words       1.212375e-02\n",
      "rate_positive_words              2.000000e-01\n",
      "rate_negative_words              1.994302e-01\n",
      "avg_positive_polarity            1.051843e-01\n",
      "min_positive_polarity            5.000000e-02\n",
      "max_positive_polarity            4.000000e-01\n",
      "avg_negative_polarity            1.414778e-01\n",
      "min_negative_polarity            4.000000e-01\n",
      "max_negative_polarity            7.500000e-02\n",
      "title_subjectivity               5.000000e-01\n",
      "title_sentiment_polarity         1.500000e-01\n",
      "abs_title_subjectivity           3.333333e-01\n",
      "abs_title_sentiment_polarity     2.500000e-01\n",
      "shares                           1.854000e+03\n",
      "dtype: float64\n"
     ]
    }
   ],
   "source": [
    "Q1 = df.quantile(0.25)\n",
    "Q3 = df.quantile(0.75)\n",
    "IQR = Q3 - Q1\n",
    "print(IQR)"
   ]
  },
  {
   "cell_type": "markdown",
   "metadata": {},
   "source": [
    "Calculating upper fence and lower fence"
   ]
  },
  {
   "cell_type": "code",
   "execution_count": 103,
   "metadata": {},
   "outputs": [
    {
     "name": "stdout",
     "output_type": "stream",
     "text": [
      "n_tokens_title                       16.500000\n",
      "n_tokens_content                   1421.000000\n",
      "n_unique_tokens                       0.815433\n",
      "n_non_stop_words                      1.000000\n",
      "n_non_stop_unique_tokens              0.947965\n",
      "num_hrefs                            29.000000\n",
      "num_self_hrefs                        8.500000\n",
      "num_imgs                              8.500000\n",
      "num_videos                            2.500000\n",
      "average_token_length                  5.419491\n",
      "num_keywords                         13.500000\n",
      "data_channel_is_lifestyle             0.000000\n",
      "data_channel_is_entertainment         0.000000\n",
      "data_channel_is_bus                   0.000000\n",
      "data_channel_is_socmed                0.000000\n",
      "data_channel_is_tech                  0.000000\n",
      "data_channel_is_world                 0.000000\n",
      "kw_min_min                           11.500000\n",
      "kw_max_min                         1832.500000\n",
      "kw_avg_min                          679.875000\n",
      "kw_min_max                        19750.000000\n",
      "kw_max_max                       843300.000000\n",
      "kw_avg_max                       568179.687500\n",
      "kw_min_avg                         5141.952579\n",
      "kw_max_avg                         9706.732474\n",
      "kw_avg_avg                         5426.901062\n",
      "self_reference_min_shares          5541.500000\n",
      "self_reference_max_shares         18350.000000\n",
      "self_reference_avg_sharess        11528.218750\n",
      "weekday_is_monday                     0.000000\n",
      "weekday_is_tuesday                    0.000000\n",
      "weekday_is_wednesday                  0.000000\n",
      "weekday_is_thursday                   0.000000\n",
      "weekday_is_friday                     0.000000\n",
      "weekday_is_saturday                   0.000000\n",
      "weekday_is_sunday                     0.000000\n",
      "is_weekend                            0.000000\n",
      "LDA_00                                0.564819\n",
      "LDA_01                                0.339560\n",
      "LDA_02                                0.792688\n",
      "LDA_03                                0.896549\n",
      "LDA_04                                0.957104\n",
      "global_subjectivity                   0.676583\n",
      "global_sentiment_polarity             0.357944\n",
      "global_rate_positive_words            0.083122\n",
      "global_rate_negative_words            0.039925\n",
      "rate_positive_words                   1.100000\n",
      "rate_negative_words                   0.683761\n",
      "avg_positive_polarity                 0.569204\n",
      "min_positive_polarity                 0.175000\n",
      "max_positive_polarity                 1.600000\n",
      "avg_negative_polarity                 0.025312\n",
      "min_negative_polarity                 0.300000\n",
      "max_negative_polarity                 0.062500\n",
      "title_subjectivity                    1.250000\n",
      "title_sentiment_polarity              0.375000\n",
      "abs_title_subjectivity                1.000000\n",
      "abs_title_sentiment_polarity          0.625000\n",
      "shares                             5581.000000\n",
      "dtype: float64 n_tokens_title                   4.500000e+00\n",
      "n_tokens_content                -4.590000e+02\n",
      "n_unique_tokens                  2.641326e-01\n",
      "n_non_stop_words                 1.000000e+00\n",
      "n_non_stop_unique_tokens         4.324041e-01\n",
      "num_hrefs                       -1.100000e+01\n",
      "num_self_hrefs                  -3.500000e+00\n",
      "num_imgs                        -3.500000e+00\n",
      "num_videos                      -1.500000e+00\n",
      "average_token_length             3.913752e+00\n",
      "num_keywords                     1.500000e+00\n",
      "data_channel_is_lifestyle        0.000000e+00\n",
      "data_channel_is_entertainment    0.000000e+00\n",
      "data_channel_is_bus              0.000000e+00\n",
      "data_channel_is_socmed           0.000000e+00\n",
      "data_channel_is_tech             0.000000e+00\n",
      "data_channel_is_world            0.000000e+00\n",
      "kw_min_min                      -8.500000e+00\n",
      "kw_max_min                      -3.875000e+02\n",
      "kw_avg_min                      -1.811250e+02\n",
      "kw_min_max                      -1.185000e+04\n",
      "kw_max_max                       8.433000e+05\n",
      "kw_avg_max                      -6.435281e+04\n",
      "kw_min_avg                      -3.085172e+03\n",
      "kw_max_avg                      -1.246769e+02\n",
      "kw_avg_avg                       5.557771e+02\n",
      "self_reference_min_shares       -2.302500e+03\n",
      "self_reference_max_shares       -9.250000e+03\n",
      "self_reference_avg_sharess      -5.347031e+03\n",
      "weekday_is_monday                0.000000e+00\n",
      "weekday_is_tuesday               0.000000e+00\n",
      "weekday_is_wednesday             0.000000e+00\n",
      "weekday_is_thursday              0.000000e+00\n",
      "weekday_is_friday                0.000000e+00\n",
      "weekday_is_saturday              0.000000e+00\n",
      "weekday_is_sunday                0.000000e+00\n",
      "is_weekend                       0.000000e+00\n",
      "LDA_00                          -2.988107e-01\n",
      "LDA_01                          -1.637161e-01\n",
      "LDA_02                          -4.298982e-01\n",
      "LDA_03                          -4.922152e-01\n",
      "LDA_04                          -5.285445e-01\n",
      "global_subjectivity              2.279167e-01\n",
      "global_sentiment_polarity       -1.223549e-01\n",
      "global_rate_positive_words      -4.458296e-03\n",
      "global_rate_negative_words      -8.570234e-03\n",
      "rate_positive_words              3.000000e-01\n",
      "rate_negative_words             -1.139601e-01\n",
      "avg_positive_polarity            1.484671e-01\n",
      "min_positive_polarity           -2.500000e-02\n",
      "max_positive_polarity           -1.110223e-16\n",
      "avg_negative_polarity           -5.405993e-01\n",
      "min_negative_polarity           -1.300000e+00\n",
      "max_negative_polarity           -2.375000e-01\n",
      "title_subjectivity              -7.500000e-01\n",
      "title_sentiment_polarity        -2.250000e-01\n",
      "abs_title_subjectivity          -3.333333e-01\n",
      "abs_title_sentiment_polarity    -3.750000e-01\n",
      "shares                          -1.835000e+03\n",
      "dtype: float64\n"
     ]
    }
   ],
   "source": [
    "upper_fence = Q3 + (1.5 * IQR)\n",
    "lower_fence = Q1 - (1.5 * IQR)\n",
    "print(upper_fence, lower_fence)"
   ]
  },
  {
   "cell_type": "code",
   "execution_count": 122,
   "metadata": {},
   "outputs": [
    {
     "name": "stdout",
     "output_type": "stream",
     "text": [
      "(39644, 59) (35103, 59)\n"
     ]
    }
   ],
   "source": [
    "for col in df:\n",
    "    new_df = df[~((df[col] > upper_fence[col]) | (df[col] < lower_fence[col]))]\n",
    "print(df.shape, new_df.shape)"
   ]
  },
  {
   "cell_type": "markdown",
   "metadata": {},
   "source": [
    "Lost only 4,541 rows which relatively not big since we still have more than 35,000 rows to train on"
   ]
  },
  {
   "cell_type": "markdown",
   "metadata": {},
   "source": [
    "## Discretizing the Target"
   ]
  },
  {
   "cell_type": "markdown",
   "metadata": {},
   "source": [
    "It is noticed that the target we want to reach which is predicting the number of shares needs to be converted into a a multi class classification problem. This can be atchieved by taking the y_train data and distribute them into bins which will act the classes that will be classified to."
   ]
  },
  {
   "cell_type": "code",
   "execution_count": 130,
   "metadata": {},
   "outputs": [
    {
     "data": {
      "text/html": [
       "<div>\n",
       "<style scoped>\n",
       "    .dataframe tbody tr th:only-of-type {\n",
       "        vertical-align: middle;\n",
       "    }\n",
       "\n",
       "    .dataframe tbody tr th {\n",
       "        vertical-align: top;\n",
       "    }\n",
       "\n",
       "    .dataframe thead th {\n",
       "        text-align: right;\n",
       "    }\n",
       "</style>\n",
       "<table border=\"1\" class=\"dataframe\">\n",
       "  <thead>\n",
       "    <tr style=\"text-align: right;\">\n",
       "      <th></th>\n",
       "      <th>shares</th>\n",
       "    </tr>\n",
       "  </thead>\n",
       "  <tbody>\n",
       "    <tr>\n",
       "      <th>0</th>\n",
       "      <td>593</td>\n",
       "    </tr>\n",
       "    <tr>\n",
       "      <th>1</th>\n",
       "      <td>711</td>\n",
       "    </tr>\n",
       "    <tr>\n",
       "      <th>2</th>\n",
       "      <td>1500</td>\n",
       "    </tr>\n",
       "    <tr>\n",
       "      <th>3</th>\n",
       "      <td>1200</td>\n",
       "    </tr>\n",
       "    <tr>\n",
       "      <th>4</th>\n",
       "      <td>505</td>\n",
       "    </tr>\n",
       "    <tr>\n",
       "      <th>...</th>\n",
       "      <td>...</td>\n",
       "    </tr>\n",
       "    <tr>\n",
       "      <th>39639</th>\n",
       "      <td>1800</td>\n",
       "    </tr>\n",
       "    <tr>\n",
       "      <th>39640</th>\n",
       "      <td>1900</td>\n",
       "    </tr>\n",
       "    <tr>\n",
       "      <th>39641</th>\n",
       "      <td>1900</td>\n",
       "    </tr>\n",
       "    <tr>\n",
       "      <th>39642</th>\n",
       "      <td>1100</td>\n",
       "    </tr>\n",
       "    <tr>\n",
       "      <th>39643</th>\n",
       "      <td>1300</td>\n",
       "    </tr>\n",
       "  </tbody>\n",
       "</table>\n",
       "<p>35103 rows × 1 columns</p>\n",
       "</div>"
      ],
      "text/plain": [
       "       shares\n",
       "0         593\n",
       "1         711\n",
       "2        1500\n",
       "3        1200\n",
       "4         505\n",
       "...       ...\n",
       "39639    1800\n",
       "39640    1900\n",
       "39641    1900\n",
       "39642    1100\n",
       "39643    1300\n",
       "\n",
       "[35103 rows x 1 columns]"
      ]
     },
     "execution_count": 130,
     "metadata": {},
     "output_type": "execute_result"
    }
   ],
   "source": [
    "X = new_df.iloc[:,0:-1]\n",
    "y = pd.DataFrame(data=new_df['shares'])\n",
    "y\n"
   ]
  },
  {
   "cell_type": "code",
   "execution_count": 140,
   "metadata": {},
   "outputs": [
    {
     "data": {
      "text/plain": [
       "shares    1\n",
       "dtype: int64"
      ]
     },
     "execution_count": 140,
     "metadata": {},
     "output_type": "execute_result"
    }
   ],
   "source": [
    "y.min()"
   ]
  },
  {
   "cell_type": "code",
   "execution_count": 202,
   "metadata": {},
   "outputs": [
    {
     "data": {
      "text/html": [
       "<div>\n",
       "<style scoped>\n",
       "    .dataframe tbody tr th:only-of-type {\n",
       "        vertical-align: middle;\n",
       "    }\n",
       "\n",
       "    .dataframe tbody tr th {\n",
       "        vertical-align: top;\n",
       "    }\n",
       "\n",
       "    .dataframe thead th {\n",
       "        text-align: right;\n",
       "    }\n",
       "</style>\n",
       "<table border=\"1\" class=\"dataframe\">\n",
       "  <thead>\n",
       "    <tr style=\"text-align: right;\">\n",
       "      <th></th>\n",
       "      <th>bins</th>\n",
       "      <th>counts</th>\n",
       "    </tr>\n",
       "  </thead>\n",
       "  <tbody>\n",
       "    <tr>\n",
       "      <th>0</th>\n",
       "      <td>(550.9, 1100.8]</td>\n",
       "      <td>13148</td>\n",
       "    </tr>\n",
       "    <tr>\n",
       "      <th>1</th>\n",
       "      <td>(1100.8, 1650.7]</td>\n",
       "      <td>7810</td>\n",
       "    </tr>\n",
       "    <tr>\n",
       "      <th>2</th>\n",
       "      <td>(1650.7, 2200.6]</td>\n",
       "      <td>4778</td>\n",
       "    </tr>\n",
       "    <tr>\n",
       "      <th>3</th>\n",
       "      <td>(2200.6, 2750.5]</td>\n",
       "      <td>2335</td>\n",
       "    </tr>\n",
       "    <tr>\n",
       "      <th>4</th>\n",
       "      <td>(2750.5, 3300.4]</td>\n",
       "      <td>1910</td>\n",
       "    </tr>\n",
       "    <tr>\n",
       "      <th>5</th>\n",
       "      <td>(-4.499, 550.9]</td>\n",
       "      <td>1584</td>\n",
       "    </tr>\n",
       "    <tr>\n",
       "      <th>6</th>\n",
       "      <td>(3300.4, 3850.3]</td>\n",
       "      <td>1219</td>\n",
       "    </tr>\n",
       "    <tr>\n",
       "      <th>7</th>\n",
       "      <td>(3850.3, 4400.2]</td>\n",
       "      <td>1001</td>\n",
       "    </tr>\n",
       "    <tr>\n",
       "      <th>8</th>\n",
       "      <td>(4400.2, 4950.1]</td>\n",
       "      <td>679</td>\n",
       "    </tr>\n",
       "    <tr>\n",
       "      <th>9</th>\n",
       "      <td>(4950.1, 5500.0]</td>\n",
       "      <td>639</td>\n",
       "    </tr>\n",
       "  </tbody>\n",
       "</table>\n",
       "</div>"
      ],
      "text/plain": [
       "               bins  counts\n",
       "0   (550.9, 1100.8]   13148\n",
       "1  (1100.8, 1650.7]    7810\n",
       "2  (1650.7, 2200.6]    4778\n",
       "3  (2200.6, 2750.5]    2335\n",
       "4  (2750.5, 3300.4]    1910\n",
       "5   (-4.499, 550.9]    1584\n",
       "6  (3300.4, 3850.3]    1219\n",
       "7  (3850.3, 4400.2]    1001\n",
       "8  (4400.2, 4950.1]     679\n",
       "9  (4950.1, 5500.0]     639"
      ]
     },
     "execution_count": 202,
     "metadata": {},
     "output_type": "execute_result"
    }
   ],
   "source": [
    "cut = pd.DataFrame(pd.cut(y['shares'], 10)).value_counts().rename_axis('bins').reset_index(name = 'counts')\n",
    "cut"
   ]
  },
  {
   "cell_type": "code",
   "execution_count": 200,
   "metadata": {},
   "outputs": [
    {
     "data": {
      "text/plain": [
       "bins      (550.9, 1100.8]\n",
       "counts              13148\n",
       "Name: 0, dtype: object"
      ]
     },
     "execution_count": 200,
     "metadata": {},
     "output_type": "execute_result"
    }
   ],
   "source": [
    "temp = cut.loc[0]\n",
    "temp"
   ]
  },
  {
   "cell_type": "code",
   "execution_count": 201,
   "metadata": {},
   "outputs": [
    {
     "data": {
      "text/plain": [
       "<AxesSubplot:>"
      ]
     },
     "execution_count": 201,
     "metadata": {},
     "output_type": "execute_result"
    },
    {
     "data": {
      "image/png": "[encoded data removed]",
      "text/plain": [
       "<Figure size 432x288 with 1 Axes>"
      ]
     },
     "metadata": {
      "needs_background": "light"
     },
     "output_type": "display_data"
    }
   ],
   "source": [
    "cut.plot.bar()"
   ]
  },
  {
   "cell_type": "code",
   "execution_count": 239,
   "metadata": {},
   "outputs": [
    {
     "data": {
      "text/plain": [
       "array([[1.],\n",
       "       [1.],\n",
       "       [2.],\n",
       "       ...,\n",
       "       [3.],\n",
       "       [1.],\n",
       "       [2.]])"
      ]
     },
     "execution_count": 239,
     "metadata": {},
     "output_type": "execute_result"
    },
    {
     "data": {
      "image/png": "[encoded data removed]",
      "text/plain": [
       "<Figure size 432x288 with 1 Axes>"
      ]
     },
     "metadata": {
      "needs_background": "light"
     },
     "output_type": "display_data"
    }
   ],
   "source": [
    "kbins = KBinsDiscretizer(n_bins=10, encode='ordinal', strategy='uniform')\n",
    "data_trans = kbins.fit_transform(y)\n",
    "plt.hist(data_trans, bins=10)\n",
    "data_trans"
   ]
  },
  {
   "cell_type": "code",
   "execution_count": 237,
   "metadata": {},
   "outputs": [
    {
     "data": {
      "text/plain": [
       "array([[0.],\n",
       "       [0.],\n",
       "       [2.],\n",
       "       ...,\n",
       "       [3.],\n",
       "       [1.],\n",
       "       [2.]])"
      ]
     },
     "execution_count": 237,
     "metadata": {},
     "output_type": "execute_result"
    },
    {
     "data": {
      "image/png": "[encoded data removed]",
      "text/plain": [
       "<Figure size 432x288 with 1 Axes>"
      ]
     },
     "metadata": {
      "needs_background": "light"
     },
     "output_type": "display_data"
    }
   ],
   "source": [
    "kbins = KBinsDiscretizer(n_bins=10, encode='ordinal', strategy='kmeans')\n",
    "data_trans = kbins.fit_transform(y)\n",
    "plt.hist(data_trans, bins=10)\n",
    "data_trans"
   ]
  },
  {
   "cell_type": "code",
   "execution_count": 245,
   "metadata": {},
   "outputs": [
    {
     "data": {
      "text/plain": [
       "array([array([1.00e+00, 6.86e+02, 8.35e+02, 9.71e+02, 1.10e+03, 1.30e+03,\n",
       "              1.50e+03, 1.90e+03, 2.40e+03, 3.40e+03, 5.50e+03])         ],\n",
       "      dtype=object)"
      ]
     },
     "execution_count": 245,
     "metadata": {},
     "output_type": "execute_result"
    },
    {
     "data": {
      "image/png": "[encoded data removed]",
      "text/plain": [
       "<Figure size 432x288 with 1 Axes>"
      ]
     },
     "metadata": {
      "needs_background": "light"
     },
     "output_type": "display_data"
    }
   ],
   "source": [
    "kbins = KBinsDiscretizer(n_bins=10, encode='ordinal', strategy='quantile')\n",
    "data_trans = kbins.fit_transform(y)\n",
    "plt.hist(data_trans, bins=10)\n",
    "kbins.bin_edges_"
   ]
  },
  {
   "cell_type": "code",
   "execution_count": 261,
   "metadata": {},
   "outputs": [
    {
     "data": {
      "text/plain": [
       "array([   1,  686,  835,  971, 1100, 1300, 1500, 1900, 2400, 3400, 5500],\n",
       "      dtype=int64)"
      ]
     },
     "execution_count": 261,
     "metadata": {},
     "output_type": "execute_result"
    }
   ],
   "source": [
    "edges = np.int64(kbins.bin_edges_[0])\n",
    "edges"
   ]
  },
  {
   "cell_type": "code",
   "execution_count": 249,
   "metadata": {},
   "outputs": [
    {
     "data": {
      "text/html": [
       "<div>\n",
       "<style scoped>\n",
       "    .dataframe tbody tr th:only-of-type {\n",
       "        vertical-align: middle;\n",
       "    }\n",
       "\n",
       "    .dataframe tbody tr th {\n",
       "        vertical-align: top;\n",
       "    }\n",
       "\n",
       "    .dataframe thead th {\n",
       "        text-align: right;\n",
       "    }\n",
       "</style>\n",
       "<table border=\"1\" class=\"dataframe\">\n",
       "  <thead>\n",
       "    <tr style=\"text-align: right;\">\n",
       "      <th></th>\n",
       "      <th>Class</th>\n",
       "    </tr>\n",
       "  </thead>\n",
       "  <tbody>\n",
       "    <tr>\n",
       "      <th>0</th>\n",
       "      <td>0.0</td>\n",
       "    </tr>\n",
       "    <tr>\n",
       "      <th>1</th>\n",
       "      <td>1.0</td>\n",
       "    </tr>\n",
       "    <tr>\n",
       "      <th>2</th>\n",
       "      <td>6.0</td>\n",
       "    </tr>\n",
       "    <tr>\n",
       "      <th>3</th>\n",
       "      <td>4.0</td>\n",
       "    </tr>\n",
       "    <tr>\n",
       "      <th>4</th>\n",
       "      <td>0.0</td>\n",
       "    </tr>\n",
       "    <tr>\n",
       "      <th>...</th>\n",
       "      <td>...</td>\n",
       "    </tr>\n",
       "    <tr>\n",
       "      <th>35098</th>\n",
       "      <td>6.0</td>\n",
       "    </tr>\n",
       "    <tr>\n",
       "      <th>35099</th>\n",
       "      <td>7.0</td>\n",
       "    </tr>\n",
       "    <tr>\n",
       "      <th>35100</th>\n",
       "      <td>7.0</td>\n",
       "    </tr>\n",
       "    <tr>\n",
       "      <th>35101</th>\n",
       "      <td>4.0</td>\n",
       "    </tr>\n",
       "    <tr>\n",
       "      <th>35102</th>\n",
       "      <td>5.0</td>\n",
       "    </tr>\n",
       "  </tbody>\n",
       "</table>\n",
       "<p>35103 rows × 1 columns</p>\n",
       "</div>"
      ],
      "text/plain": [
       "       Class\n",
       "0        0.0\n",
       "1        1.0\n",
       "2        6.0\n",
       "3        4.0\n",
       "4        0.0\n",
       "...      ...\n",
       "35098    6.0\n",
       "35099    7.0\n",
       "35100    7.0\n",
       "35101    4.0\n",
       "35102    5.0\n",
       "\n",
       "[35103 rows x 1 columns]"
      ]
     },
     "execution_count": 249,
     "metadata": {},
     "output_type": "execute_result"
    }
   ],
   "source": [
    "y = pd.DataFrame(data_trans, columns=['Class'])\n",
    "y"
   ]
  },
  {
   "cell_type": "markdown",
   "metadata": {},
   "source": [
    "## Feature Selection"
   ]
  },
  {
   "cell_type": "code",
   "execution_count": null,
   "metadata": {},
   "outputs": [],
   "source": []
  },
  {
   "cell_type": "markdown",
   "metadata": {},
   "source": [
    "## Splitting the Data"
   ]
  },
  {
   "cell_type": "code",
   "execution_count": null,
   "metadata": {},
   "outputs": [],
   "source": [
    "X_train, X_test, y_train, y_test = train_test_split(X, y, stratify = y, random_state=42)\n"
   ]
  }
 ],
 "metadata": {
  "kernelspec": {
   "display_name": "Python 3.9.7 ('base')",
   "language": "python",
   "name": "python3"
  },
  "language_info": {
   "codemirror_mode": {
    "name": "ipython",
    "version": 3
   },
   "file_extension": ".py",
   "mimetype": "text/x-python",
   "name": "python",
   "nbconvert_exporter": "python",
   "pygments_lexer": "ipython3",
   "version": "3.9.7"
  },
  "orig_nbformat": 4,
  "vscode": {
   "interpreter": {
    "hash": "15c18779755d87cf3d8f4339589cec1eaf2f00eb4bedfcd095daf8ee5cb7dca1"
   }
  }
 },
 "nbformat": 4,
 "nbformat_minor": 2
}
